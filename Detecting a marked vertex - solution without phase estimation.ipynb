{
 "cells": [
  {
   "cell_type": "markdown",
   "id": "6aa49c6a",
   "metadata": {},
   "source": [
    "$ \\newcommand{\\bra}[1]{\\langle #1|} $\n",
    "$ \\newcommand{\\ket}[1]{|#1\\rangle} $"
   ]
  },
  {
   "cell_type": "markdown",
   "id": "8175aa91",
   "metadata": {},
   "source": [
    "Here, we update the implementation of the algorithm \"Detecting a marked vertex\" from the paper Quantum walk speedup of backtracking algorithms by Ashley Montanaro.\n",
    "\n",
    "We do not use Phase estimation here. Instead, we do a probabilistic sampling:\n",
    "$$\\frac{1}{m} \\sum_{i=0}^{m-1} |\\bra{00 ... 0} (R_B R_A)^i \\ket{00 ... 0}|^2$$\n",
    "\n",
    "The idea is that we apply the operator $R_B R_A$ to the initial state $\\ket{00 ... 0}$ for random number of times (between 0 and $2^k - 1$, where we pick $k$ as the number of bits of precision. If there are no marked vertices, then probability of measuring state $\\ket{00 ... 0}$ will not exceed $\\frac{1}{2}$, while in case of at least one marked vertex probability will be at least $60 \\%$.\n",
    "\n",
    "Keep in mind that in order to ensure the probabilities we changed transformation $D_r$, where $r$ is denoting root vertex (specifically, state $\\psi_r$)."
   ]
  },
  {
   "cell_type": "markdown",
   "id": "b5ef5602",
   "metadata": {},
   "source": [
    "<h2>Parameters</h2>"
   ]
  },
  {
   "cell_type": "code",
   "execution_count": null,
   "id": "487ccb92",
   "metadata": {},
   "outputs": [],
   "source": [
    "num_of_layers = 4\n",
    "bits_of_precision = 4"
   ]
  },
  {
   "cell_type": "markdown",
   "id": "6c4755f1",
   "metadata": {},
   "source": [
    "<h2>Generating layers - qubit basis state labels</h2>"
   ]
  },
  {
   "cell_type": "code",
   "execution_count": null,
   "id": "5c648712",
   "metadata": {},
   "outputs": [],
   "source": [
    "layers = [\n",
    "    ['000'],\n",
    "    ['100','001'],\n",
    "    ['110','101','011','111']\n",
    "]\n",
    "\n",
    "def add_layer(layer_count,layers):\n",
    "    new_layers = []\n",
    "    root = '1'\n",
    "    for i in range(layer_count-2):\n",
    "        root = root + '0'\n",
    "    root = root + '10'\n",
    "    new_layers.append([root])\n",
    "    for i in range(len(layers)):\n",
    "        new_layers.append([])\n",
    "        for j in range(2**i):\n",
    "            new_layers[i+1].append('0'+layers[i][j])\n",
    "        for j in range(2**i):\n",
    "            new_layers[i+1].append('1'+layers[i][j])\n",
    "    return new_layers\n",
    "\n",
    "for layer_count in range(3,num_of_layers+1):\n",
    "    layers = add_layer(layer_count,layers)"
   ]
  },
  {
   "cell_type": "markdown",
   "id": "8d160577",
   "metadata": {},
   "source": [
    "<h3>Verifying correctness of the tree structure</h3>"
   ]
  },
  {
   "cell_type": "code",
   "execution_count": null,
   "id": "b6d8e2e3",
   "metadata": {},
   "outputs": [],
   "source": [
    "correct_bit_count = True\n",
    "for layer in layers:\n",
    "    for node in layer:\n",
    "        if(len(node) != num_of_layers + 1):\n",
    "            correct_bit_count = False\n",
    "print('Correct bit count in each node:',correct_bit_count)\n",
    "\n",
    "no_duplicates = True\n",
    "for layer in layers:\n",
    "    for node in layer:\n",
    "        count = 0\n",
    "        for layer1 in layers:\n",
    "            for node1 in layer1:\n",
    "                if(node == node1):\n",
    "                    count = count+1\n",
    "        if(count != 1):\n",
    "            no_duplicates = False\n",
    "print('No duplicates:',no_duplicates)\n",
    "\n",
    "correct_links = True\n",
    "for i in range(num_of_layers):\n",
    "    for j in range(2**i):\n",
    "        vertices = [layers[i][j],layers[i+1][2*j],layers[i+1][2*j+1]]\n",
    "        same_bits = []\n",
    "        different_bits = []\n",
    "        for k in range(num_of_layers+1):\n",
    "            if(vertices[0][k] == vertices[1][k] and vertices[1][k] == vertices[2][k]):\n",
    "                same_bits.append(k)\n",
    "            else:\n",
    "                different_bits.append(k)\n",
    "        if(len(different_bits) != 2):\n",
    "            correct_links = False\n",
    "print('Correct links:',correct_links)\n",
    "\n",
    "print('Root:',layers[0][0],'to',layers[1][0],'and',layers[1][1])"
   ]
  },
  {
   "cell_type": "markdown",
   "id": "cd91b781",
   "metadata": {},
   "source": [
    "<h2>Array for $\\psi$</h2>\n",
    "\n",
    "In this part, we prepare states $\\ket{\\psi_x}$ for each vertex $x$."
   ]
  },
  {
   "cell_type": "code",
   "execution_count": null,
   "id": "9faeecea",
   "metadata": {},
   "outputs": [],
   "source": [
    "psi = {}"
   ]
  },
  {
   "cell_type": "markdown",
   "id": "62154ee1",
   "metadata": {},
   "source": [
    "<h2>Preparing root</h2>"
   ]
  },
  {
   "cell_type": "code",
   "execution_count": null,
   "id": "d166c2bc",
   "metadata": {},
   "outputs": [],
   "source": [
    "from qiskit import QuantumRegister, ClassicalRegister, QuantumCircuit, execute, Aer\n",
    "from math import pi, sqrt\n",
    "qc = QuantumCircuit(3)\n",
    "\n",
    "desired_vector = [\n",
    "    0, # 00\n",
    "    sqrt(num_of_layers*4)/sqrt(1+2*(num_of_layers*4)), # 01\n",
    "    1/sqrt(1+2*(num_of_layers*4)), # 10\n",
    "    sqrt(num_of_layers*4)/sqrt(1+2*(num_of_layers*4)) #11\n",
    "]\n",
    "\n",
    "q = QuantumRegister(2)\n",
    "qc = QuantumCircuit(q)\n",
    "\n",
    "qc.initialize(desired_vector, [q[0],q[1]])\n",
    "qc2 = qc.decompose().decompose().decompose().decompose().decompose()\n",
    "\n",
    "qc2.draw(output='mpl')"
   ]
  },
  {
   "cell_type": "code",
   "execution_count": null,
   "id": "45a23236",
   "metadata": {},
   "outputs": [],
   "source": [
    "# you need to update only 3 operators\n",
    "psi[layers[0][0]] = QuantumCircuit(num_of_layers+1)\n",
    "psi[layers[0][0]].x(1)\n",
    "psi[layers[0][0]].u3(2.9,0,0,num_of_layers-1) # only first parameter needs to be updated\n",
    "psi[layers[0][0]].u3(1.6,0,0,num_of_layers) # only first parameter needs to be updated\n",
    "psi[layers[0][0]].cx(num_of_layers,num_of_layers-1)\n",
    "psi[layers[0][0]].u3(0.245,0,0,num_of_layers-1) # only first parameter needs to be updated\n",
    "psi[layers[0][0]].cx(num_of_layers,num_of_layers-1)\n",
    "\n",
    "psi[layers[0][0]].draw(output='mpl')"
   ]
  },
  {
   "cell_type": "markdown",
   "id": "dfdac6fe",
   "metadata": {},
   "source": [
    "<h3>Generating parent-children cases</h3>"
   ]
  },
  {
   "cell_type": "code",
   "execution_count": null,
   "id": "eb249a06",
   "metadata": {},
   "outputs": [],
   "source": [
    "cases = {}"
   ]
  },
  {
   "cell_type": "code",
   "execution_count": null,
   "id": "6ec8b340",
   "metadata": {},
   "outputs": [],
   "source": [
    "from qiskit import QuantumRegister, ClassicalRegister, QuantumCircuit, execute, Aer\n",
    "from math import pi, sqrt\n",
    "qc = QuantumCircuit(3)\n",
    "\n",
    "desired_vector = [\n",
    "    0, # 00\n",
    "    1/sqrt(3), # 01\n",
    "    1/sqrt(3), # 10\n",
    "    1/sqrt(3) #11\n",
    "]\n",
    "\n",
    "q = QuantumRegister(2)\n",
    "qc = QuantumCircuit(q)\n",
    "\n",
    "qc.initialize(desired_vector, [q[0],q[1]])\n",
    "qc2 = qc.decompose().decompose().decompose().decompose().decompose()\n",
    "\n",
    "qc2.draw(output='mpl')"
   ]
  },
  {
   "cell_type": "code",
   "execution_count": null,
   "id": "6b3c479a",
   "metadata": {},
   "outputs": [],
   "source": [
    "cases['00'] = QuantumCircuit(2)\n",
    "cases['00'].u3(3*pi/4,0,0,0)\n",
    "cases['00'].u3(1.91,0,0,1)\n",
    "cases['00'].cx(1,0)\n",
    "cases['00'].u3(pi/4,0,0,0)\n",
    "cases['00'].cx(1,0)\n",
    "\n",
    "cases['00'].draw(output='mpl')"
   ]
  },
  {
   "cell_type": "code",
   "execution_count": null,
   "id": "791e34a7",
   "metadata": {},
   "outputs": [],
   "source": [
    "from qiskit import QuantumRegister, ClassicalRegister, QuantumCircuit, execute, Aer\n",
    "from math import pi, sqrt\n",
    "qc = QuantumCircuit(3)\n",
    "\n",
    "desired_vector = [\n",
    "    1/sqrt(3), # 00\n",
    "    0, # 01\n",
    "    1/sqrt(3), # 10\n",
    "    1/sqrt(3) #11\n",
    "]\n",
    "\n",
    "q = QuantumRegister(2)\n",
    "qc = QuantumCircuit(q)\n",
    "\n",
    "qc.initialize(desired_vector, [q[0],q[1]])\n",
    "qc2 = qc.decompose().decompose().decompose().decompose().decompose()\n",
    "\n",
    "qc2.draw(output='mpl')"
   ]
  },
  {
   "cell_type": "code",
   "execution_count": null,
   "id": "8335b234",
   "metadata": {},
   "outputs": [],
   "source": [
    "cases['01'] = QuantumCircuit(2)\n",
    "cases['01'].u3(pi/4,0,0,0)\n",
    "cases['01'].u3(1.91,0,0,1)\n",
    "cases['01'].cx(1,0)\n",
    "cases['01'].u3(-pi/4,0,0,0)\n",
    "cases['01'].cx(1,0)\n",
    "\n",
    "cases['01'].draw(output='mpl')"
   ]
  },
  {
   "cell_type": "code",
   "execution_count": null,
   "id": "26175229",
   "metadata": {},
   "outputs": [],
   "source": [
    "from qiskit import QuantumRegister, ClassicalRegister, QuantumCircuit, execute, Aer\n",
    "from math import pi, sqrt\n",
    "qc = QuantumCircuit(3)\n",
    "\n",
    "desired_vector = [\n",
    "    1/sqrt(3), # 00\n",
    "    1/sqrt(3), # 01\n",
    "    0, # 10\n",
    "    1/sqrt(3) #11\n",
    "]\n",
    "\n",
    "q = QuantumRegister(2)\n",
    "qc = QuantumCircuit(q)\n",
    "\n",
    "qc.initialize(desired_vector, [q[0],q[1]])\n",
    "qc2 = qc.decompose().decompose().decompose().decompose().decompose()\n",
    "\n",
    "qc2.draw(output='mpl')"
   ]
  },
  {
   "cell_type": "code",
   "execution_count": null,
   "id": "1955749d",
   "metadata": {},
   "outputs": [],
   "source": [
    "cases['10'] = QuantumCircuit(2)\n",
    "cases['10'].u3(3*pi/4,0,0,0)\n",
    "cases['10'].u3(1.23,0,0,1)\n",
    "cases['10'].cx(1,0)\n",
    "cases['10'].u3(-pi/4,0,0,0)\n",
    "cases['10'].cx(1,0)\n",
    "\n",
    "cases['10'].draw(output='mpl')"
   ]
  },
  {
   "cell_type": "code",
   "execution_count": null,
   "id": "c4a2e855",
   "metadata": {},
   "outputs": [],
   "source": [
    "from qiskit import QuantumRegister, ClassicalRegister, QuantumCircuit, execute, Aer\n",
    "from math import pi, sqrt\n",
    "qc = QuantumCircuit(3)\n",
    "\n",
    "desired_vector = [\n",
    "    1/sqrt(3), # 00\n",
    "    1/sqrt(3), # 01\n",
    "    1/sqrt(3), # 10\n",
    "    0 #11\n",
    "]\n",
    "\n",
    "q = QuantumRegister(2)\n",
    "qc = QuantumCircuit(q)\n",
    "\n",
    "qc.initialize(desired_vector, [q[0],q[1]])\n",
    "qc2 = qc.decompose().decompose().decompose().decompose().decompose()\n",
    "\n",
    "qc2.draw(output='mpl')"
   ]
  },
  {
   "cell_type": "code",
   "execution_count": null,
   "id": "e0bed886",
   "metadata": {},
   "outputs": [],
   "source": [
    "cases['11'] = QuantumCircuit(2)\n",
    "cases['11'].u3(pi/4,0,0,0)\n",
    "cases['11'].u3(1.23,0,0,1)\n",
    "cases['11'].cx(1,0)\n",
    "cases['11'].u3(pi/4,0,0,0)\n",
    "cases['11'].cx(1,0)\n",
    "\n",
    "cases['11'].draw(output='mpl')"
   ]
  },
  {
   "cell_type": "markdown",
   "id": "95edd665",
   "metadata": {},
   "source": [
    "<h3>Generating parent-children circuits</h3>"
   ]
  },
  {
   "cell_type": "code",
   "execution_count": null,
   "id": "50a694d5",
   "metadata": {},
   "outputs": [],
   "source": [
    "series_of_vertex_links = []\n",
    "for i in range(1,num_of_layers):\n",
    "    for j in range(2**i):\n",
    "        vertex_link = [layers[i][j],layers[i+1][2*j],layers[i+1][2*j+1]]\n",
    "        series_of_vertex_links.append(vertex_link)"
   ]
  },
  {
   "cell_type": "code",
   "execution_count": null,
   "id": "5c59a97c",
   "metadata": {},
   "outputs": [],
   "source": [
    "for vertices in series_of_vertex_links:   \n",
    "    same_bits = []\n",
    "    different_bits = []\n",
    "    for i in range(num_of_layers+1):\n",
    "        if(vertices[0][i] == vertices[1][i] and vertices[1][i] == vertices[2][i]):\n",
    "            same_bits.append(i)\n",
    "        else:\n",
    "            different_bits.append(i)\n",
    "\n",
    "    current_case = ['00','01','10','11']\n",
    "    for i in range(3):\n",
    "        string = '' + vertices[i][different_bits[0]] + vertices[i][different_bits[1]]\n",
    "        current_case.remove(string)\n",
    "\n",
    "    psi[vertices[0]] = QuantumCircuit(num_of_layers+1)\n",
    "    for i in same_bits:\n",
    "        if(vertices[0][i] == '1'):\n",
    "            psi[vertices[0]].x(num_of_layers-i)\n",
    "    psi[vertices[0]] = psi[vertices[0]].compose(cases[current_case[0]],[num_of_layers-different_bits[1],num_of_layers-different_bits[0]])"
   ]
  },
  {
   "cell_type": "markdown",
   "id": "38a30ea0",
   "metadata": {},
   "source": [
    "<h3>Leaves</h3>"
   ]
  },
  {
   "cell_type": "code",
   "execution_count": null,
   "id": "c5739ca5",
   "metadata": {},
   "outputs": [],
   "source": [
    "for leaf in layers[num_of_layers]:\n",
    "    psi[leaf] = QuantumCircuit(num_of_layers+1)\n",
    "    reversed_index = leaf[::-1]\n",
    "    for i in range(num_of_layers+1):\n",
    "        if(reversed_index[i] == '1'):\n",
    "            psi[leaf].x(i)"
   ]
  },
  {
   "cell_type": "markdown",
   "id": "cbffae90",
   "metadata": {},
   "source": [
    "<h2>Operators</h2>\n",
    "\n",
    "In this part, we prepare operators $D_x$ for each vertex $x$. Here $D_x = I - 2 \\ket{\\psi_x} \\bra{\\psi_x}$"
   ]
  },
  {
   "cell_type": "code",
   "execution_count": null,
   "id": "14b5a15d",
   "metadata": {},
   "outputs": [],
   "source": [
    "from qiskit import QuantumRegister, ClassicalRegister, QuantumCircuit, execute, Aer\n",
    "from math import pi\n",
    "\n",
    "identity_minus_state_zero = QuantumCircuit(num_of_layers+1)\n",
    "\n",
    "for i in range(num_of_layers+1):\n",
    "    identity_minus_state_zero.x(i)\n",
    "\n",
    "control_states = []\n",
    "for i in range(num_of_layers+1):\n",
    "    control_states.append(i)\n",
    "\n",
    "\n",
    "identity_minus_state_zero.h(num_of_layers)\n",
    "identity_minus_state_zero.mct([*range(num_of_layers)], num_of_layers)\n",
    "identity_minus_state_zero.h(num_of_layers)\n",
    "\n",
    "for i in range(num_of_layers+1):\n",
    "    identity_minus_state_zero.x(i)\n",
    "\n",
    "d={}\n",
    "for layer in layers:\n",
    "    for i in layer:\n",
    "        d[i] = QuantumCircuit(num_of_layers+1)\n",
    "        d[i] = d[i].compose(psi[i].inverse(),control_states)\n",
    "        d[i] = d[i].compose(identity_minus_state_zero)\n",
    "        d[i] = d[i].compose(psi[i],control_states)"
   ]
  },
  {
   "cell_type": "markdown",
   "id": "94459c51",
   "metadata": {},
   "source": [
    "<h2>Implementation</h2>\n",
    "\n",
    "Here, we repeat experiment with applying $R_BR_A$ for $i$ times for each $0 \\leq i \\leq 2^k-1$ and gather the total probability of observing state $\\ket{00 ... 0}$."
   ]
  },
  {
   "cell_type": "code",
   "execution_count": null,
   "id": "8b0f0bcb",
   "metadata": {},
   "outputs": [],
   "source": [
    "marked=['11111']"
   ]
  },
  {
   "cell_type": "code",
   "execution_count": null,
   "id": "b8cc7faf",
   "metadata": {},
   "outputs": [],
   "source": [
    "from qiskit import QuantumRegister, ClassicalRegister, QuantumCircuit, execute, Aer\n",
    "from math import pi\n",
    "from qiskit.circuit.library import QFT\n",
    "\n",
    "r_a = QuantumCircuit(num_of_layers+1)\n",
    "\n",
    "even_distance_layer = []\n",
    "for i in range(0,num_of_layers+1,2):\n",
    "    even_distance_layer = even_distance_layer + layers[i]\n",
    "\n",
    "for i in even_distance_layer:\n",
    "    if not i in marked:\n",
    "        r_a = r_a.compose(d[i])\n",
    "    \n",
    "r_b = QuantumCircuit(num_of_layers+1)\n",
    "\n",
    "odd_distance_layer = []\n",
    "for i in range(1,num_of_layers+1,2):\n",
    "    odd_distance_layer = odd_distance_layer + layers[i]\n",
    "\n",
    "for i in odd_distance_layer:\n",
    "    if not i in marked:\n",
    "        r_b = r_b.compose(d[i])\n",
    "\n",
    "rbra = r_a\n",
    "rbra = rbra.compose(r_b)\n",
    "\n",
    "print('marked: ['+', '.join(marked)+'], outcome: ')\n",
    "\n",
    "composed_rbra = QuantumCircuit(num_of_layers+1)\n",
    "summation = 0\n",
    "total_counts = {}\n",
    "for experiment in range(2**bits_of_precision):\n",
    "    circuit = QuantumCircuit(num_of_layers+1,num_of_layers+1)\n",
    "    reversed_index = layers[0][0][::-1]\n",
    "    for i in range(num_of_layers+1):\n",
    "        if(reversed_index[i] == '1'):\n",
    "            circuit.x(i)\n",
    "    circuit = circuit.compose(composed_rbra)\n",
    "    circuit.measure(range(num_of_layers+1),range(num_of_layers+1))\n",
    "    job = execute(circuit,Aer.get_backend('qasm_simulator'),shots=10000)\n",
    "    counts = job.result().get_counts(circuit)\n",
    "    total_counts_new = {k: total_counts.get(k, 0) + counts.get(k, 0) for k in set(total_counts) | set(counts)}\n",
    "    total_counts = total_counts_new\n",
    "    result = counts.get(layers[0][0], 0)\n",
    "    print('experiment:',experiment)\n",
    "    print(result/100,'%')\n",
    "    summation += result\n",
    "    composed_rbra = composed_rbra.compose(rbra)\n",
    "print('final probability:',summation/(10000*(2**bits_of_precision)))\n",
    "ordered_counts = dict(sorted(total_counts.items(), key=lambda item: item[1],reverse=True))\n",
    "print(ordered_counts)"
   ]
  },
  {
   "cell_type": "code",
   "execution_count": null,
   "id": "120e2905",
   "metadata": {},
   "outputs": [],
   "source": []
  }
 ],
 "metadata": {
  "kernelspec": {
   "display_name": "Python 3",
   "language": "python",
   "name": "python3"
  },
  "language_info": {
   "codemirror_mode": {
    "name": "ipython",
    "version": 3
   },
   "file_extension": ".py",
   "mimetype": "text/x-python",
   "name": "python",
   "nbconvert_exporter": "python",
   "pygments_lexer": "ipython3",
   "version": "3.8.8"
  }
 },
 "nbformat": 4,
 "nbformat_minor": 5
}
