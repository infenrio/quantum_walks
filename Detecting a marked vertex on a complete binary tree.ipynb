{
 "cells": [
  {
   "cell_type": "markdown",
   "id": "6adf83ab",
   "metadata": {},
   "source": [
    "$ \\newcommand{\\bra}[1]{\\langle #1|} $\n",
    "$ \\newcommand{\\ket}[1]{|#1\\rangle} $"
   ]
  },
  {
   "cell_type": "markdown",
   "id": "7907ba09",
   "metadata": {},
   "source": [
    "Here, we implement an algorithm \"Detecting a marked vertex\" from the paper Quantum walk speedup of backtracking algorithms by Ashley Montanaro. We implement operations for a complete binary tree. Subsection \"Generating layers - qubit basis state labels\" is demonstrating the structure of the binary tree.\n",
    "\n",
    "Remark - from the very beginning, each gate is implemented with additional control qubit manually. For some reason automated functionality of Qiskit operator.contol() worked multiple times slower during the simulation."
   ]
  },
  {
   "cell_type": "markdown",
   "id": "4839ca24",
   "metadata": {},
   "source": [
    "<h2>Parameters</h2>"
   ]
  },
  {
   "cell_type": "code",
   "execution_count": null,
   "id": "cf620dbb",
   "metadata": {},
   "outputs": [],
   "source": [
    "num_of_layers = 5\n",
    "bits_of_precision = 5"
   ]
  },
  {
   "cell_type": "markdown",
   "id": "7711111b",
   "metadata": {},
   "source": [
    "<h2>Generating layers - qubit basis state labels</h2>"
   ]
  },
  {
   "cell_type": "code",
   "execution_count": null,
   "id": "ed1a8ba3",
   "metadata": {},
   "outputs": [],
   "source": [
    "layers = [\n",
    "    ['000'],\n",
    "    ['100','001'],\n",
    "    ['110','101','011','111']\n",
    "]\n",
    "\n",
    "def add_layer(layer_count,layers):\n",
    "    new_layers = []\n",
    "    root = '1'\n",
    "    for i in range(layer_count-2):\n",
    "        root = root + '0'\n",
    "    root = root + '10'\n",
    "    new_layers.append([root])\n",
    "    for i in range(len(layers)):\n",
    "        new_layers.append([])\n",
    "        for j in range(2**i):\n",
    "            new_layers[i+1].append('0'+layers[i][j])\n",
    "        for j in range(2**i):\n",
    "            new_layers[i+1].append('1'+layers[i][j])\n",
    "    return new_layers\n",
    "\n",
    "for layer_count in range(3,num_of_layers+1):\n",
    "    layers = add_layer(layer_count,layers)"
   ]
  },
  {
   "cell_type": "markdown",
   "id": "0b97a58c",
   "metadata": {},
   "source": [
    "<h3>Verifying correctness of the tree structure</h3>"
   ]
  },
  {
   "cell_type": "code",
   "execution_count": null,
   "id": "dfdcf238",
   "metadata": {},
   "outputs": [],
   "source": [
    "correct_bit_count = True\n",
    "for layer in layers:\n",
    "    for node in layer:\n",
    "        if(len(node) != num_of_layers + 1):\n",
    "            correct_bit_count = False\n",
    "print('Correct bit count in each node:',correct_bit_count)\n",
    "\n",
    "no_duplicates = True\n",
    "for layer in layers:\n",
    "    for node in layer:\n",
    "        count = 0\n",
    "        for layer1 in layers:\n",
    "            for node1 in layer1:\n",
    "                if(node == node1):\n",
    "                    count = count+1\n",
    "        if(count != 1):\n",
    "            no_duplicates = False\n",
    "print('No duplicates:',no_duplicates)\n",
    "\n",
    "correct_links = True\n",
    "for i in range(num_of_layers):\n",
    "    for j in range(2**i):\n",
    "        vertices = [layers[i][j],layers[i+1][2*j],layers[i+1][2*j+1]]\n",
    "        same_bits = []\n",
    "        different_bits = []\n",
    "        for k in range(num_of_layers+1):\n",
    "            if(vertices[0][k] == vertices[1][k] and vertices[1][k] == vertices[2][k]):\n",
    "                same_bits.append(k)\n",
    "            else:\n",
    "                different_bits.append(k)\n",
    "        if(len(different_bits) != 2):\n",
    "            correct_links = False\n",
    "print('Correct links:',correct_links)\n",
    "\n",
    "print('Root:',layers[0][0],'to',layers[1][0],'and',layers[1][1])"
   ]
  },
  {
   "cell_type": "markdown",
   "id": "5b382bfe",
   "metadata": {},
   "source": [
    "<h2>Array for $\\psi$</h2>\n",
    "\n",
    "In this part, we prepare states $\\ket{\\psi_x}$ for each vertex $x$."
   ]
  },
  {
   "cell_type": "code",
   "execution_count": null,
   "id": "5567deb0",
   "metadata": {},
   "outputs": [],
   "source": [
    "psi = {}"
   ]
  },
  {
   "cell_type": "markdown",
   "id": "4e722765",
   "metadata": {},
   "source": [
    "<h2>Preparing root</h2>"
   ]
  },
  {
   "cell_type": "code",
   "execution_count": null,
   "id": "23495a8e",
   "metadata": {},
   "outputs": [],
   "source": [
    "from qiskit import QuantumRegister, ClassicalRegister, QuantumCircuit, execute, Aer\n",
    "from math import pi, sqrt\n",
    "qc = QuantumCircuit(3)\n",
    "\n",
    "desired_vector = [\n",
    "    0, # 00\n",
    "    sqrt(num_of_layers)/sqrt(1+2*(num_of_layers)), # 01\n",
    "    1/sqrt(1+2*(num_of_layers)), # 10\n",
    "    sqrt(num_of_layers)/sqrt(1+2*(num_of_layers)) #11\n",
    "]\n",
    "\n",
    "q = QuantumRegister(2)\n",
    "qc = QuantumCircuit(q)\n",
    "\n",
    "qc.initialize(desired_vector, [q[0],q[1]])\n",
    "qc2 = qc.decompose().decompose().decompose().decompose().decompose()\n",
    "\n",
    "qc2.draw(output='mpl')"
   ]
  },
  {
   "cell_type": "code",
   "execution_count": null,
   "id": "59c63de5",
   "metadata": {},
   "outputs": [],
   "source": [
    "# you need to update only 3 operators\n",
    "psi[layers[0][0]] = QuantumCircuit(num_of_layers+2)\n",
    "psi[layers[0][0]].cx(0,2)\n",
    "psi[layers[0][0]].cu3(2.72,0,0,0,num_of_layers) # only first parameter needs to be updated\n",
    "psi[layers[0][0]].cu3(1.66,0,0,0,num_of_layers+1) # only first parameter needs to be updated\n",
    "psi[layers[0][0]].ccx(0,num_of_layers+1,num_of_layers)\n",
    "psi[layers[0][0]].cu3(0.421,0,0,0,num_of_layers) # only first parameter needs to be updated\n",
    "psi[layers[0][0]].ccx(0,num_of_layers+1,num_of_layers)\n",
    "\n",
    "psi[layers[0][0]].draw(output='mpl')"
   ]
  },
  {
   "cell_type": "markdown",
   "id": "57c57646",
   "metadata": {},
   "source": [
    "<h3>Generating parent-children cases</h3>"
   ]
  },
  {
   "cell_type": "code",
   "execution_count": null,
   "id": "b5c2ab4e",
   "metadata": {},
   "outputs": [],
   "source": [
    "cases = {}"
   ]
  },
  {
   "cell_type": "code",
   "execution_count": null,
   "id": "0c8ee321",
   "metadata": {},
   "outputs": [],
   "source": [
    "from qiskit import QuantumRegister, ClassicalRegister, QuantumCircuit, execute, Aer\n",
    "from math import pi, sqrt\n",
    "qc = QuantumCircuit(3)\n",
    "\n",
    "desired_vector = [\n",
    "    0, # 00\n",
    "    1/sqrt(3), # 01\n",
    "    1/sqrt(3), # 10\n",
    "    1/sqrt(3) #11\n",
    "]\n",
    "\n",
    "q = QuantumRegister(2)\n",
    "qc = QuantumCircuit(q)\n",
    "\n",
    "qc.initialize(desired_vector, [q[0],q[1]])\n",
    "qc2 = qc.decompose().decompose().decompose().decompose().decompose()\n",
    "\n",
    "qc2.draw(output='mpl')"
   ]
  },
  {
   "cell_type": "code",
   "execution_count": null,
   "id": "541e5fad",
   "metadata": {},
   "outputs": [],
   "source": [
    "cases['00'] = QuantumCircuit(3)\n",
    "cases['00'].cu3(3*pi/4,0,0,0,1)\n",
    "cases['00'].cu3(1.91,0,0,0,2)\n",
    "cases['00'].ccx(0,2,1)\n",
    "cases['00'].cu3(pi/4,0,0,0,1)\n",
    "cases['00'].ccx(0,2,1)\n",
    "\n",
    "cases['00'].draw(output='mpl')"
   ]
  },
  {
   "cell_type": "code",
   "execution_count": null,
   "id": "32698c4a",
   "metadata": {},
   "outputs": [],
   "source": [
    "from qiskit import QuantumRegister, ClassicalRegister, QuantumCircuit, execute, Aer\n",
    "from math import pi, sqrt\n",
    "qc = QuantumCircuit(3)\n",
    "\n",
    "desired_vector = [\n",
    "    1/sqrt(3), # 00\n",
    "    0, # 01\n",
    "    1/sqrt(3), # 10\n",
    "    1/sqrt(3) #11\n",
    "]\n",
    "\n",
    "q = QuantumRegister(2)\n",
    "qc = QuantumCircuit(q)\n",
    "\n",
    "qc.initialize(desired_vector, [q[0],q[1]])\n",
    "qc2 = qc.decompose().decompose().decompose().decompose().decompose()\n",
    "\n",
    "qc2.draw(output='mpl')"
   ]
  },
  {
   "cell_type": "code",
   "execution_count": null,
   "id": "1e60ab80",
   "metadata": {},
   "outputs": [],
   "source": [
    "cases['01'] = QuantumCircuit(3)\n",
    "cases['01'].cu3(pi/4,0,0,0,1)\n",
    "cases['01'].cu3(1.91,0,0,0,2)\n",
    "cases['01'].ccx(0,2,1)\n",
    "cases['01'].cu3(-pi/4,0,0,0,1)\n",
    "cases['01'].ccx(0,2,1)\n",
    "\n",
    "cases['01'].draw(output='mpl')"
   ]
  },
  {
   "cell_type": "code",
   "execution_count": null,
   "id": "0cf0c8ff",
   "metadata": {},
   "outputs": [],
   "source": [
    "from qiskit import QuantumRegister, ClassicalRegister, QuantumCircuit, execute, Aer\n",
    "from math import pi, sqrt\n",
    "qc = QuantumCircuit(3)\n",
    "\n",
    "desired_vector = [\n",
    "    1/sqrt(3), # 00\n",
    "    1/sqrt(3), # 01\n",
    "    0, # 10\n",
    "    1/sqrt(3) #11\n",
    "]\n",
    "\n",
    "q = QuantumRegister(2)\n",
    "qc = QuantumCircuit(q)\n",
    "\n",
    "qc.initialize(desired_vector, [q[0],q[1]])\n",
    "qc2 = qc.decompose().decompose().decompose().decompose().decompose()\n",
    "\n",
    "qc2.draw(output='mpl')"
   ]
  },
  {
   "cell_type": "code",
   "execution_count": null,
   "id": "f2173f81",
   "metadata": {},
   "outputs": [],
   "source": [
    "cases['10'] = QuantumCircuit(3)\n",
    "cases['10'].cu3(3*pi/4,0,0,0,1)\n",
    "cases['10'].cu3(1.23,0,0,0,2)\n",
    "cases['10'].ccx(0,2,1)\n",
    "cases['10'].cu3(-pi/4,0,0,0,1)\n",
    "cases['10'].ccx(0,2,1)\n",
    "\n",
    "cases['10'].draw(output='mpl')"
   ]
  },
  {
   "cell_type": "code",
   "execution_count": null,
   "id": "a66b3d34",
   "metadata": {},
   "outputs": [],
   "source": [
    "from qiskit import QuantumRegister, ClassicalRegister, QuantumCircuit, execute, Aer\n",
    "from math import pi, sqrt\n",
    "qc = QuantumCircuit(3)\n",
    "\n",
    "desired_vector = [\n",
    "    1/sqrt(3), # 00\n",
    "    1/sqrt(3), # 01\n",
    "    1/sqrt(3), # 10\n",
    "    0 #11\n",
    "]\n",
    "\n",
    "q = QuantumRegister(2)\n",
    "qc = QuantumCircuit(q)\n",
    "\n",
    "qc.initialize(desired_vector, [q[0],q[1]])\n",
    "qc2 = qc.decompose().decompose().decompose().decompose().decompose()\n",
    "\n",
    "qc2.draw(output='mpl')"
   ]
  },
  {
   "cell_type": "code",
   "execution_count": null,
   "id": "ad09a4d7",
   "metadata": {},
   "outputs": [],
   "source": [
    "cases['11'] = QuantumCircuit(3)\n",
    "cases['11'].cu3(pi/4,0,0,0,1)\n",
    "cases['11'].cu3(1.23,0,0,0,2)\n",
    "cases['11'].ccx(0,2,1)\n",
    "cases['11'].cu3(pi/4,0,0,0,1)\n",
    "cases['11'].ccx(0,2,1)\n",
    "\n",
    "cases['11'].draw(output='mpl')"
   ]
  },
  {
   "cell_type": "markdown",
   "id": "53549a54",
   "metadata": {},
   "source": [
    "<h3>Generating parent-children circuits</h3>"
   ]
  },
  {
   "cell_type": "code",
   "execution_count": null,
   "id": "eb3f83f9",
   "metadata": {},
   "outputs": [],
   "source": [
    "series_of_vertex_links = []\n",
    "for i in range(1,num_of_layers):\n",
    "    for j in range(2**i):\n",
    "        vertex_link = [layers[i][j],layers[i+1][2*j],layers[i+1][2*j+1]]\n",
    "        series_of_vertex_links.append(vertex_link)"
   ]
  },
  {
   "cell_type": "code",
   "execution_count": null,
   "id": "70d23d45",
   "metadata": {},
   "outputs": [],
   "source": [
    "for vertices in series_of_vertex_links:   \n",
    "    same_bits = []\n",
    "    different_bits = []\n",
    "    for i in range(num_of_layers+1):\n",
    "        if(vertices[0][i] == vertices[1][i] and vertices[1][i] == vertices[2][i]):\n",
    "            same_bits.append(i)\n",
    "        else:\n",
    "            different_bits.append(i)\n",
    "\n",
    "    current_case = ['00','01','10','11']\n",
    "    for i in range(3):\n",
    "        string = '' + vertices[i][different_bits[0]] + vertices[i][different_bits[1]]\n",
    "        current_case.remove(string)\n",
    "\n",
    "    psi[vertices[0]] = QuantumCircuit(num_of_layers+2)\n",
    "    for i in same_bits:\n",
    "        if(vertices[0][i] == '1'):\n",
    "            psi[vertices[0]].cx(0,num_of_layers-i+1)\n",
    "    psi[vertices[0]] = psi[vertices[0]].compose(cases[current_case[0]],[0,num_of_layers-different_bits[1]+1,num_of_layers-different_bits[0]+1])"
   ]
  },
  {
   "cell_type": "markdown",
   "id": "12da5853",
   "metadata": {},
   "source": [
    "<h3>Leaves</h3>"
   ]
  },
  {
   "cell_type": "code",
   "execution_count": null,
   "id": "be3cdc58",
   "metadata": {},
   "outputs": [],
   "source": [
    "for leaf in layers[num_of_layers]:\n",
    "    psi[leaf] = QuantumCircuit(num_of_layers+2)\n",
    "    reversed_index = leaf[::-1]\n",
    "    for i in range(num_of_layers+1):\n",
    "        if(reversed_index[i] == '1'):\n",
    "            psi[leaf].cx(0,i+1)"
   ]
  },
  {
   "cell_type": "markdown",
   "id": "ddd761a1",
   "metadata": {},
   "source": [
    "<h2>Operators</h2>\n",
    "\n",
    "In this part, we prepare operators $D_x$ for each vertex $x$. Here $D_x = I - 2 \\ket{\\psi_x} \\bra{\\psi_x}$"
   ]
  },
  {
   "cell_type": "code",
   "execution_count": null,
   "id": "6adb836a",
   "metadata": {},
   "outputs": [],
   "source": [
    "from qiskit import QuantumRegister, ClassicalRegister, QuantumCircuit, execute, Aer\n",
    "from math import pi\n",
    "\n",
    "identity_minus_state_zero = QuantumCircuit(num_of_layers+2)\n",
    "\n",
    "for i in range(num_of_layers+1):\n",
    "    identity_minus_state_zero.cx(0,i+1)\n",
    "\n",
    "control_states = []\n",
    "for i in range(num_of_layers+1):\n",
    "    control_states.append(i)\n",
    "\n",
    "\n",
    "identity_minus_state_zero.h(num_of_layers+1)\n",
    "identity_minus_state_zero.mct(control_states, num_of_layers+1)\n",
    "identity_minus_state_zero.h(num_of_layers+1)\n",
    "\n",
    "for i in range(num_of_layers+1):\n",
    "    identity_minus_state_zero.cx(0,i+1)\n",
    "\n",
    "d={}\n",
    "for layer in layers:\n",
    "    for i in layer: \n",
    "        d[i] = QuantumCircuit(num_of_layers+2)\n",
    "        d[i] = d[i].compose(psi[i].inverse())\n",
    "        d[i] = d[i].compose(identity_minus_state_zero)\n",
    "        d[i] = d[i].compose(psi[i])"
   ]
  },
  {
   "cell_type": "markdown",
   "id": "e2b3c90b",
   "metadata": {},
   "source": [
    "<h2>Implementation</h2>\n",
    "\n",
    "Here we implement phase estimation algorithm. In steps where we prepare the transformation $R_BR_A$, for marked vertices $x$ we place identity operation instead of $D_x$.\n",
    "\n",
    "We provide an array of indexes of marked elements for running the experiment. Array can be left empty for the case of no marked vertices."
   ]
  },
  {
   "cell_type": "code",
   "execution_count": null,
   "id": "9733eb58",
   "metadata": {},
   "outputs": [],
   "source": [
    "marked=['111111']"
   ]
  },
  {
   "cell_type": "code",
   "execution_count": null,
   "id": "627f4da9",
   "metadata": {},
   "outputs": [],
   "source": [
    "from qiskit import QuantumRegister, ClassicalRegister, QuantumCircuit, execute, Aer\n",
    "from math import pi\n",
    "from qiskit.circuit.library import QFT\n",
    "\n",
    "r_a = QuantumCircuit(num_of_layers+2)\n",
    "\n",
    "even_distance_layer = []\n",
    "for i in range(0,num_of_layers+1,2):\n",
    "    even_distance_layer = even_distance_layer + layers[i]\n",
    "\n",
    "for i in even_distance_layer:\n",
    "    if not i in marked:\n",
    "        r_a = r_a.compose(d[i])\n",
    "    \n",
    "r_b = QuantumCircuit(num_of_layers+2)\n",
    "\n",
    "odd_distance_layer = []\n",
    "for i in range(1,num_of_layers+1,2):\n",
    "    odd_distance_layer = odd_distance_layer + layers[i]\n",
    "\n",
    "for i in odd_distance_layer:\n",
    "    if not i in marked:\n",
    "        r_b = r_b.compose(d[i])\n",
    "\n",
    "rbra = r_a\n",
    "rbra = rbra.compose(r_b)\n",
    "\n",
    "controlled_rbra = rbra\n",
    "    \n",
    "phase_estimation = QuantumCircuit(num_of_layers+1+bits_of_precision,bits_of_precision)\n",
    "phase_estimation.h(range(bits_of_precision))\n",
    "reversed_index = layers[0][0][::-1]\n",
    "for i in range(num_of_layers+1):\n",
    "    if(reversed_index[i] == '1'):\n",
    "        phase_estimation.x(bits_of_precision+i)\n",
    "\n",
    "operation_qubits = []\n",
    "for i in range(bits_of_precision,num_of_layers+1+bits_of_precision):\n",
    "    operation_qubits = operation_qubits+[i]\n",
    "\n",
    "qubits_to_appply = []\n",
    "qubits_to_appply += [0]\n",
    "qubits_to_appply += operation_qubits\n",
    "for j in range(1):\n",
    "    phase_estimation = phase_estimation.compose(controlled_rbra,qubits_to_appply)\n",
    "\n",
    "for i in range(1, bits_of_precision):\n",
    "    qubits_to_appply = []\n",
    "    qubits_to_appply += [i]\n",
    "    qubits_to_appply += operation_qubits\n",
    "    controlled_rbra = controlled_rbra.compose(controlled_rbra)\n",
    "    phase_estimation = phase_estimation.compose(controlled_rbra,qubits_to_appply)\n",
    "\n",
    "phase_estimation.barrier()\n",
    "\n",
    "phase_estimation = phase_estimation.compose(QFT(num_qubits=bits_of_precision, approximation_degree=0, do_swaps=False, inverse=True, insert_barriers=False, name='qft'),range(bits_of_precision))\n",
    "\n",
    "phase_estimation.measure(range(bits_of_precision),range(bits_of_precision))\n",
    "    \n",
    "job = execute(phase_estimation,Aer.get_backend('qasm_simulator'),shots=10000)\n",
    "counts = job.result().get_counts(phase_estimation)\n",
    "print('marked: ['+', '.join(marked)+'], outcome: ')\n",
    "n = ''\n",
    "n = n.zfill(bits_of_precision)\n",
    "result = counts.get(n, 0)\n",
    "print(result/100,'%')\n",
    "print(counts)"
   ]
  },
  {
   "cell_type": "markdown",
   "id": "e8f66526",
   "metadata": {},
   "source": [
    "<h2>Running multiple experiments</h2>\n",
    "\n",
    "We can also run multiple experiments with the code below."
   ]
  },
  {
   "cell_type": "code",
   "execution_count": null,
   "id": "5cebd1b0",
   "metadata": {},
   "outputs": [],
   "source": [
    "experiments=[\n",
    "    [],\n",
    "    ['111111']\n",
    "]"
   ]
  },
  {
   "cell_type": "code",
   "execution_count": null,
   "id": "b3c4304e",
   "metadata": {},
   "outputs": [],
   "source": [
    "from qiskit import QuantumRegister, ClassicalRegister, QuantumCircuit, execute, Aer\n",
    "from math import pi\n",
    "from qiskit.circuit.library import QFT\n",
    "\n",
    "for m in range(len(experiments)):\n",
    "    marked = experiments[m]\n",
    "\n",
    "    r_a = QuantumCircuit(num_of_layers+2)\n",
    "\n",
    "    even_distance_layer = []\n",
    "    for i in range(0,num_of_layers+1,2):\n",
    "        even_distance_layer = even_distance_layer + layers[i]\n",
    "\n",
    "    for i in even_distance_layer:\n",
    "        if not i in marked:\n",
    "            r_a = r_a.compose(d[i])\n",
    "    \n",
    "    r_b = QuantumCircuit(num_of_layers+2)\n",
    "\n",
    "    odd_distance_layer = []\n",
    "    for i in range(1,num_of_layers+1,2):\n",
    "        odd_distance_layer = odd_distance_layer + layers[i]\n",
    "\n",
    "    for i in odd_distance_layer:\n",
    "        if not i in marked:\n",
    "            r_b = r_b.compose(d[i])\n",
    "\n",
    "    rbra = r_a\n",
    "    rbra = rbra.compose(r_b)\n",
    "\n",
    "    controlled_rbra = rbra\n",
    "    \n",
    "    phase_estimation = QuantumCircuit(num_of_layers+1+bits_of_precision,bits_of_precision)\n",
    "    phase_estimation.h(range(bits_of_precision))\n",
    "    reversed_index = layers[0][0][::-1]\n",
    "    for i in range(num_of_layers+1):\n",
    "        if(reversed_index[i] == '1'):\n",
    "            phase_estimation.x(bits_of_precision+i)\n",
    "\n",
    "    operation_qubits = []\n",
    "    for i in range(bits_of_precision,num_of_layers+1+bits_of_precision):\n",
    "        operation_qubits = operation_qubits+[i]\n",
    "\n",
    "    qubits_to_appply = []\n",
    "    qubits_to_appply += [0]\n",
    "    qubits_to_appply += operation_qubits\n",
    "    for j in range(1):\n",
    "        phase_estimation = phase_estimation.compose(controlled_rbra,qubits_to_appply)\n",
    "\n",
    "    for i in range(1, bits_of_precision):\n",
    "        qubits_to_appply = []\n",
    "        qubits_to_appply += [i]\n",
    "        qubits_to_appply += operation_qubits\n",
    "        controlled_rbra = controlled_rbra.compose(controlled_rbra)\n",
    "        phase_estimation = phase_estimation.compose(controlled_rbra,qubits_to_appply)\n",
    "\n",
    "    phase_estimation.barrier()\n",
    "\n",
    "    phase_estimation = phase_estimation.compose(QFT(num_qubits=bits_of_precision, approximation_degree=0, do_swaps=False, inverse=True, insert_barriers=False, name='qft'),range(bits_of_precision))\n",
    "\n",
    "    phase_estimation.measure(range(bits_of_precision),range(bits_of_precision))\n",
    "    \n",
    "    job = execute(phase_estimation,Aer.get_backend('qasm_simulator'),shots=10000)\n",
    "    counts = job.result().get_counts(phase_estimation)\n",
    "    print('marked: ['+', '.join(marked)+'], outcome: ')\n",
    "    n = ''\n",
    "    n = n.zfill(bits_of_precision)\n",
    "    result = counts.get(n, 0)\n",
    "    print(result/100,'%')\n",
    "    print(counts)"
   ]
  },
  {
   "cell_type": "code",
   "execution_count": null,
   "id": "581342b4",
   "metadata": {},
   "outputs": [],
   "source": []
  }
 ],
 "metadata": {
  "kernelspec": {
   "display_name": "Python 3",
   "language": "python",
   "name": "python3"
  },
  "language_info": {
   "codemirror_mode": {
    "name": "ipython",
    "version": 3
   },
   "file_extension": ".py",
   "mimetype": "text/x-python",
   "name": "python",
   "nbconvert_exporter": "python",
   "pygments_lexer": "ipython3",
   "version": "3.8.8"
  }
 },
 "nbformat": 4,
 "nbformat_minor": 5
}
