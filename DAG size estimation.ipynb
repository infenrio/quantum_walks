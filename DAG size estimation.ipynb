{
 "cells": [
  {
   "cell_type": "markdown",
   "id": "a3e5513d",
   "metadata": {},
   "source": [
    "$ \\newcommand{\\bra}[1]{\\langle #1|} $\n",
    "$ \\newcommand{\\ket}[1]{|#1\\rangle} $"
   ]
  },
  {
   "cell_type": "markdown",
   "id": "2a49961c",
   "metadata": {},
   "source": [
    "<h1>DAG size estimation</h1>\n",
    "\n",
    "Here we implement an algorithm for DAG size estimation from paper \"Quantum algorithm for tree size estimation, with applications to backtracking and 2-player games\" by Andris Ambainis and Martins Kokainis.\n",
    "\n",
    "We implement it for a complete binary tree with the given number of layers. Additional parameter is remove_pair_count that allows to remove pairs of leaves from the tree. This parameter is used to test the algorithm for different number of edges."
   ]
  },
  {
   "cell_type": "markdown",
   "id": "5037bc07",
   "metadata": {},
   "source": [
    "<h3>Parameters</h3>\n",
    "\n",
    "num_of_layers = distance from the root to farthest leaf, $n$ in paper\n",
    "\n",
    "bits_of_precision - how many qubits will be used in Phase estimation (eigenvalue estimation), minimal value is $\\lceil \\log \\frac{1}{\\delta_{min}} \\rceil$\n",
    "\n",
    "currently, $\\delta_{min} = \\frac{\\delta^{1.5}}{4\\sqrt{3nT_0}}$.\n",
    "\n",
    "$\\alpha = \\sqrt{2n\\delta^{-1}}$"
   ]
  },
  {
   "cell_type": "code",
   "execution_count": null,
   "id": "10022948",
   "metadata": {},
   "outputs": [],
   "source": [
    "from math import sqrt, log\n",
    "num_of_layers = 4\n",
    "bits_of_precision = 10\n",
    "delta = 0.2\n",
    "t0 = 2**(num_of_layers+1)\n",
    "print(t0)\n",
    "delta_min = delta**1.5/(4*sqrt(3*num_of_layers*t0))\n",
    "print('number of bits of precision needed:',log(1/delta_min,2))\n",
    "remove_pair_count = 0\n",
    "alpha = sqrt(2*num_of_layers/delta)\n",
    "print('alpha =',alpha)"
   ]
  },
  {
   "cell_type": "markdown",
   "id": "549666b1",
   "metadata": {},
   "source": [
    "<h2>Generating layers - qubit basis state labels</h2>"
   ]
  },
  {
   "cell_type": "code",
   "execution_count": null,
   "id": "2658b8b6",
   "metadata": {},
   "outputs": [],
   "source": [
    "layers = [\n",
    "    ['000'],\n",
    "    ['100','001'],\n",
    "    ['110','101','011','111']\n",
    "]\n",
    "\n",
    "def add_layer(layer_count,layers):\n",
    "    new_layers = []\n",
    "    root = '1'\n",
    "    for i in range(layer_count-2):\n",
    "        root = root + '0'\n",
    "    root = root + '10'\n",
    "    new_layers.append([root])\n",
    "    for i in range(len(layers)):\n",
    "        new_layers.append([])\n",
    "        for j in range(2**i):\n",
    "            new_layers[i+1].append('0'+layers[i][j])\n",
    "        for j in range(2**i):\n",
    "            new_layers[i+1].append('1'+layers[i][j])\n",
    "    return new_layers\n",
    "\n",
    "for layer_count in range(3,num_of_layers+1):\n",
    "    layers = add_layer(layer_count,layers)"
   ]
  },
  {
   "cell_type": "markdown",
   "id": "c97a26de",
   "metadata": {},
   "source": [
    "<h3>Verifying correctness of the tree structure</h3>"
   ]
  },
  {
   "cell_type": "code",
   "execution_count": null,
   "id": "6353c90d",
   "metadata": {},
   "outputs": [],
   "source": [
    "correct_bit_count = True\n",
    "for layer in layers:\n",
    "    for node in layer:\n",
    "        if(len(node) != num_of_layers + 1):\n",
    "            correct_bit_count = False\n",
    "print('Correct bit count in each node:',correct_bit_count)\n",
    "\n",
    "no_duplicates = True\n",
    "for layer in layers:\n",
    "    for node in layer:\n",
    "        count = 0\n",
    "        for layer1 in layers:\n",
    "            for node1 in layer1:\n",
    "                if(node == node1):\n",
    "                    count = count+1\n",
    "        if(count != 1):\n",
    "            no_duplicates = False\n",
    "print('No duplicates:',no_duplicates)\n",
    "\n",
    "correct_links = True\n",
    "for i in range(num_of_layers):\n",
    "    for j in range(2**i):\n",
    "        vertices = [layers[i][j],layers[i+1][2*j],layers[i+1][2*j+1]]\n",
    "        same_bits = []\n",
    "        different_bits = []\n",
    "        for k in range(num_of_layers+1):\n",
    "            if(vertices[0][k] == vertices[1][k] and vertices[1][k] == vertices[2][k]):\n",
    "                same_bits.append(k)\n",
    "            else:\n",
    "                different_bits.append(k)\n",
    "        if(len(different_bits) != 2):\n",
    "            correct_links = False\n",
    "print('Correct links:',correct_links)\n",
    "\n",
    "print('Root:',layers[0][0],'to',layers[1][0],'and',layers[1][1])"
   ]
  },
  {
   "cell_type": "markdown",
   "id": "592516af",
   "metadata": {},
   "source": [
    "<h2>Array for $\\psi$</h2>\n",
    "\n",
    "In this part, we prepare states $\\ket{\\psi_x}$ for each vertex $x$."
   ]
  },
  {
   "cell_type": "code",
   "execution_count": null,
   "id": "89289681",
   "metadata": {},
   "outputs": [],
   "source": [
    "psi = {}"
   ]
  },
  {
   "cell_type": "code",
   "execution_count": null,
   "id": "eeb50942",
   "metadata": {},
   "outputs": [],
   "source": [
    "from qiskit import QuantumRegister, ClassicalRegister, QuantumCircuit, execute, Aer\n",
    "from math import pi, sqrt\n",
    "qc = QuantumCircuit(2)\n",
    "\n",
    "sum_of_squares = 1 + 2*(alpha**2)\n",
    "\n",
    "desired_vector = [\n",
    "    0, # 00\n",
    "    alpha/sum_of_squares**0.5, # 01\n",
    "    1/sum_of_squares**0.5, # 10\n",
    "    alpha/sum_of_squares**0.5 #11\n",
    "]\n",
    "\n",
    "q = QuantumRegister(2)\n",
    "qc = QuantumCircuit(q)\n",
    "\n",
    "qc.initialize(desired_vector, [q[0],q[1]])\n",
    "qc2 = qc.decompose().decompose().decompose().decompose().decompose()\n",
    "\n",
    "qc2.draw(output='mpl')"
   ]
  },
  {
   "cell_type": "code",
   "execution_count": null,
   "id": "3833baf8",
   "metadata": {},
   "outputs": [],
   "source": [
    "# you need to update only 3 operators\n",
    "psi[layers[0][0]] = QuantumCircuit(num_of_layers+2)\n",
    "psi[layers[0][0]].cx(0,2)\n",
    "psi[layers[0][0]].cu3(2.98,0,0,0,num_of_layers) # only first parameter needs to be updated\n",
    "psi[layers[0][0]].cu3(1.58,0,0,0,num_of_layers+1) # only first parameter needs to be updated\n",
    "psi[layers[0][0]].ccx(0,num_of_layers+1,num_of_layers)\n",
    "psi[layers[0][0]].cu3(0.157,0,0,0,num_of_layers) # only first parameter needs to be updated\n",
    "psi[layers[0][0]].ccx(0,num_of_layers+1,num_of_layers)\n",
    "\n",
    "psi[layers[0][0]].draw(output='mpl')"
   ]
  },
  {
   "cell_type": "markdown",
   "id": "a141dc3e",
   "metadata": {},
   "source": [
    "<h3>Generating parent-children cases</h3>"
   ]
  },
  {
   "cell_type": "code",
   "execution_count": null,
   "id": "1eae67f2",
   "metadata": {},
   "outputs": [],
   "source": [
    "cases = {}"
   ]
  },
  {
   "cell_type": "code",
   "execution_count": null,
   "id": "163aa0ac",
   "metadata": {},
   "outputs": [],
   "source": [
    "from qiskit import QuantumRegister, ClassicalRegister, QuantumCircuit, execute, Aer\n",
    "from math import pi, sqrt\n",
    "qc = QuantumCircuit(3)\n",
    "\n",
    "desired_vector = [\n",
    "    0, # 00\n",
    "    1/sqrt(3), # 01\n",
    "    1/sqrt(3), # 10\n",
    "    1/sqrt(3) #11\n",
    "]\n",
    "\n",
    "q = QuantumRegister(2)\n",
    "qc = QuantumCircuit(q)\n",
    "\n",
    "qc.initialize(desired_vector, [q[0],q[1]])\n",
    "qc2 = qc.decompose().decompose().decompose().decompose().decompose()\n",
    "\n",
    "qc2.draw(output='mpl')"
   ]
  },
  {
   "cell_type": "code",
   "execution_count": null,
   "id": "fa8b97ec",
   "metadata": {},
   "outputs": [],
   "source": [
    "cases['00'] = QuantumCircuit(3)\n",
    "cases['00'].cu3(3*pi/4,0,0,0,1)\n",
    "cases['00'].cu3(1.91,0,0,0,2)\n",
    "cases['00'].ccx(0,2,1)\n",
    "cases['00'].cu3(pi/4,0,0,0,1)\n",
    "cases['00'].ccx(0,2,1)\n",
    "\n",
    "cases['00'].draw(output='mpl')"
   ]
  },
  {
   "cell_type": "code",
   "execution_count": null,
   "id": "433c5e51",
   "metadata": {},
   "outputs": [],
   "source": [
    "from qiskit import QuantumRegister, ClassicalRegister, QuantumCircuit, execute, Aer\n",
    "from math import pi, sqrt\n",
    "qc = QuantumCircuit(3)\n",
    "\n",
    "desired_vector = [\n",
    "    1/sqrt(3), # 00\n",
    "    0, # 01\n",
    "    1/sqrt(3), # 10\n",
    "    1/sqrt(3) #11\n",
    "]\n",
    "\n",
    "q = QuantumRegister(2)\n",
    "qc = QuantumCircuit(q)\n",
    "\n",
    "qc.initialize(desired_vector, [q[0],q[1]])\n",
    "qc2 = qc.decompose().decompose().decompose().decompose().decompose()\n",
    "\n",
    "qc2.draw(output='mpl')"
   ]
  },
  {
   "cell_type": "code",
   "execution_count": null,
   "id": "94470596",
   "metadata": {},
   "outputs": [],
   "source": [
    "cases['01'] = QuantumCircuit(3)\n",
    "cases['01'].cu3(pi/4,0,0,0,1)\n",
    "cases['01'].cu3(1.91,0,0,0,2)\n",
    "cases['01'].ccx(0,2,1)\n",
    "cases['01'].cu3(-pi/4,0,0,0,1)\n",
    "cases['01'].ccx(0,2,1)\n",
    "\n",
    "cases['01'].draw(output='mpl')"
   ]
  },
  {
   "cell_type": "code",
   "execution_count": null,
   "id": "e4abbacb",
   "metadata": {},
   "outputs": [],
   "source": [
    "from qiskit import QuantumRegister, ClassicalRegister, QuantumCircuit, execute, Aer\n",
    "from math import pi, sqrt\n",
    "qc = QuantumCircuit(3)\n",
    "\n",
    "desired_vector = [\n",
    "    1/sqrt(3), # 00\n",
    "    1/sqrt(3), # 01\n",
    "    0, # 10\n",
    "    1/sqrt(3) #11\n",
    "]\n",
    "\n",
    "q = QuantumRegister(2)\n",
    "qc = QuantumCircuit(q)\n",
    "\n",
    "qc.initialize(desired_vector, [q[0],q[1]])\n",
    "qc2 = qc.decompose().decompose().decompose().decompose().decompose()\n",
    "\n",
    "qc2.draw(output='mpl')"
   ]
  },
  {
   "cell_type": "code",
   "execution_count": null,
   "id": "b81a8ca3",
   "metadata": {},
   "outputs": [],
   "source": [
    "cases['10'] = QuantumCircuit(3)\n",
    "cases['10'].cu3(3*pi/4,0,0,0,1)\n",
    "cases['10'].cu3(1.23,0,0,0,2)\n",
    "cases['10'].ccx(0,2,1)\n",
    "cases['10'].cu3(-pi/4,0,0,0,1)\n",
    "cases['10'].ccx(0,2,1)\n",
    "\n",
    "cases['10'].draw(output='mpl')"
   ]
  },
  {
   "cell_type": "code",
   "execution_count": null,
   "id": "87a9c0d1",
   "metadata": {},
   "outputs": [],
   "source": [
    "from qiskit import QuantumRegister, ClassicalRegister, QuantumCircuit, execute, Aer\n",
    "from math import pi, sqrt\n",
    "qc = QuantumCircuit(3)\n",
    "\n",
    "desired_vector = [\n",
    "    1/sqrt(3), # 00\n",
    "    1/sqrt(3), # 01\n",
    "    1/sqrt(3), # 10\n",
    "    0 #11\n",
    "]\n",
    "\n",
    "q = QuantumRegister(2)\n",
    "qc = QuantumCircuit(q)\n",
    "\n",
    "qc.initialize(desired_vector, [q[0],q[1]])\n",
    "qc2 = qc.decompose().decompose().decompose().decompose().decompose()\n",
    "\n",
    "qc2.draw(output='mpl')"
   ]
  },
  {
   "cell_type": "code",
   "execution_count": null,
   "id": "1b1966d5",
   "metadata": {},
   "outputs": [],
   "source": [
    "cases['11'] = QuantumCircuit(3)\n",
    "cases['11'].cu3(pi/4,0,0,0,1)\n",
    "cases['11'].cu3(1.23,0,0,0,2)\n",
    "cases['11'].ccx(0,2,1)\n",
    "cases['11'].cu3(pi/4,0,0,0,1)\n",
    "cases['11'].ccx(0,2,1)\n",
    "\n",
    "cases['11'].draw(output='mpl')"
   ]
  },
  {
   "cell_type": "markdown",
   "id": "21c56a4f",
   "metadata": {},
   "source": [
    "<h3>Generating parent-children circuits</h3>"
   ]
  },
  {
   "cell_type": "code",
   "execution_count": null,
   "id": "1619d415",
   "metadata": {},
   "outputs": [],
   "source": [
    "series_of_vertex_links = []\n",
    "for i in range(1,num_of_layers):\n",
    "    for j in range(2**i):\n",
    "        vertex_link = [layers[i][j],layers[i+1][2*j],layers[i+1][2*j+1]]\n",
    "        series_of_vertex_links.append(vertex_link)"
   ]
  },
  {
   "cell_type": "code",
   "execution_count": null,
   "id": "620e8978",
   "metadata": {},
   "outputs": [],
   "source": [
    "print('Initial edge structure')\n",
    "print(layers)\n",
    "for i in range(remove_pair_count):\n",
    "    layers[num_of_layers].pop()\n",
    "    layers[num_of_layers].pop()\n",
    "print('Final edge structure')\n",
    "print(layers)"
   ]
  },
  {
   "cell_type": "code",
   "execution_count": null,
   "id": "611933a7",
   "metadata": {},
   "outputs": [],
   "source": [
    "list_of_chageable_vertices = []\n",
    "for i in range(1,remove_pair_count+1):\n",
    "    list_of_chageable_vertices.append(-i)\n",
    "\n",
    "for vertices in series_of_vertex_links:   \n",
    "    same_bits = []\n",
    "    different_bits = []\n",
    "    for i in range(num_of_layers+1):\n",
    "        if(vertices[0][i] == vertices[1][i] and vertices[1][i] == vertices[2][i]):\n",
    "            same_bits.append(i)\n",
    "        else:\n",
    "            different_bits.append(i)\n",
    "\n",
    "    current_case = ['00','01','10','11']\n",
    "    for i in range(3):\n",
    "        string = '' + vertices[i][different_bits[0]] + vertices[i][different_bits[1]]\n",
    "        current_case.remove(string)\n",
    "\n",
    "    psi[vertices[0]] = QuantumCircuit(num_of_layers+2)\n",
    "    is_changeable_vertex = False\n",
    "    for i in list_of_chageable_vertices:\n",
    "        if(vertices[0] == layers[num_of_layers-1][i]):\n",
    "            is_changeable_vertex = True\n",
    "    if(is_changeable_vertex):\n",
    "        reversed_index = vertices[0][::-1]\n",
    "        for i in range(num_of_layers+1):\n",
    "            if(reversed_index[i] == '1'):\n",
    "                psi[vertices[0]].cx(0,i+1)\n",
    "    else:\n",
    "        for i in same_bits:\n",
    "            if(vertices[0][i] == '1'):\n",
    "                psi[vertices[0]].cx(0,num_of_layers-i+1)\n",
    "        psi[vertices[0]] = psi[vertices[0]].compose(cases[current_case[0]],[0,num_of_layers-different_bits[1]+1,num_of_layers-different_bits[0]+1])"
   ]
  },
  {
   "cell_type": "markdown",
   "id": "38a30ea0",
   "metadata": {},
   "source": [
    "<h3>Leaves</h3>"
   ]
  },
  {
   "cell_type": "code",
   "execution_count": null,
   "id": "c5739ca5",
   "metadata": {},
   "outputs": [],
   "source": [
    "for leaf in layers[num_of_layers]:\n",
    "    psi[leaf] = QuantumCircuit(num_of_layers+2)\n",
    "    reversed_index = leaf[::-1]\n",
    "    for i in range(num_of_layers+1):\n",
    "        if(reversed_index[i] == '1'):\n",
    "            psi[leaf].cx(0,i+1)"
   ]
  },
  {
   "cell_type": "markdown",
   "id": "51f938a1",
   "metadata": {},
   "source": [
    "<h3>Operators</h3>\n",
    "\n",
    "In this part, we prepare operators $D_x$ for each vertex $x$. Here $D_x = I - 2 \\ket{\\psi_x} \\bra{\\psi_x}$"
   ]
  },
  {
   "cell_type": "code",
   "execution_count": null,
   "id": "bf7643e1",
   "metadata": {},
   "outputs": [],
   "source": [
    "from qiskit import QuantumRegister, ClassicalRegister, QuantumCircuit, execute, Aer\n",
    "from math import pi\n",
    "\n",
    "identity_minus_state_zero = QuantumCircuit(num_of_layers+2)\n",
    "\n",
    "for i in range(num_of_layers+1):\n",
    "    identity_minus_state_zero.cx(0,i+1)\n",
    "\n",
    "control_states = []\n",
    "for i in range(num_of_layers+1):\n",
    "    control_states.append(i)\n",
    "\n",
    "\n",
    "identity_minus_state_zero.h(num_of_layers+1)\n",
    "identity_minus_state_zero.mct(control_states, num_of_layers+1)\n",
    "identity_minus_state_zero.h(num_of_layers+1)\n",
    "\n",
    "for i in range(num_of_layers+1):\n",
    "    identity_minus_state_zero.cx(0,i+1)\n",
    "\n",
    "d={}\n",
    "for layer in layers:\n",
    "    for i in layer: \n",
    "        d[i] = QuantumCircuit(num_of_layers+2)\n",
    "        d[i] = d[i].compose(psi[i].inverse())\n",
    "        d[i] = d[i].compose(identity_minus_state_zero)\n",
    "        d[i] = d[i].compose(psi[i])"
   ]
  },
  {
   "cell_type": "markdown",
   "id": "50d11fe5",
   "metadata": {},
   "source": [
    "<h3>Eigenvalue estimation</h3>"
   ]
  },
  {
   "cell_type": "code",
   "execution_count": null,
   "id": "d91a99d9",
   "metadata": {},
   "outputs": [],
   "source": [
    "from qiskit import QuantumRegister, ClassicalRegister, QuantumCircuit, execute, Aer\n",
    "from math import pi, sin\n",
    "from qiskit.circuit.library import QFT\n",
    "\n",
    "r_a = QuantumCircuit(num_of_layers*2+2)\n",
    "\n",
    "# root\n",
    "r_a = r_a.compose(d[layers[0][0]])\n",
    "\n",
    "for i in range(1,num_of_layers+1):\n",
    "    if i%2 == 0:\n",
    "        for j in layers[i]:\n",
    "            r_a = r_a.compose(d[j])\n",
    "    \n",
    "r_b = QuantumCircuit(num_of_layers*2+2)\n",
    "\n",
    "for i in range(1,num_of_layers+1):\n",
    "    if i%2 == 1:\n",
    "        for j in layers[i]:\n",
    "            r_b = r_b.compose(d[j])\n",
    "\n",
    "rbra = r_a\n",
    "rbra = rbra.compose(r_b)\n",
    "\n",
    "controlled_rbra = rbra\n",
    "    \n",
    "phase_estimation = QuantumCircuit(num_of_layers*2+1+bits_of_precision,bits_of_precision)\n",
    "phase_estimation.h(range(bits_of_precision))\n",
    "reversed_index = layers[0][0][::-1]\n",
    "for i in range(num_of_layers+1):\n",
    "    if(reversed_index[i] == '1'):\n",
    "        phase_estimation.x(bits_of_precision+i)\n",
    "\n",
    "operation_qubits = []\n",
    "for i in range(bits_of_precision,num_of_layers*2+1+bits_of_precision):\n",
    "    operation_qubits = operation_qubits+[i]\n",
    "\n",
    "qubits_to_appply = []\n",
    "qubits_to_appply += [0]\n",
    "qubits_to_appply += operation_qubits\n",
    "for j in range(1):\n",
    "    phase_estimation = phase_estimation.compose(controlled_rbra,qubits_to_appply)\n",
    "\n",
    "for i in range(1, bits_of_precision):\n",
    "    qubits_to_appply = []\n",
    "    qubits_to_appply += [i]\n",
    "    qubits_to_appply += operation_qubits\n",
    "    controlled_rbra = controlled_rbra.compose(controlled_rbra)\n",
    "    phase_estimation = phase_estimation.compose(controlled_rbra,qubits_to_appply)\n",
    "\n",
    "phase_estimation.barrier()\n",
    "\n",
    "phase_estimation = phase_estimation.compose(QFT(num_qubits=bits_of_precision, approximation_degree=0, do_swaps=True, inverse=True, insert_barriers=False, name='qft'),range(bits_of_precision))\n",
    "\n",
    "\n",
    "phase_estimation.measure(range(bits_of_precision),range(bits_of_precision))\n",
    "    \n",
    "job = execute(phase_estimation,Aer.get_backend('qasm_simulator'),shots=10000)\n",
    "counts = job.result().get_counts(phase_estimation)\n",
    "\n",
    "ordered_counts = dict(sorted(counts.items(), key=lambda item: item[1],reverse=True))\n",
    "\n",
    "print(ordered_counts)\n",
    "print(list(ordered_counts)[0])\n",
    "print(ordered_counts[list(ordered_counts)[0]])"
   ]
  },
  {
   "cell_type": "markdown",
   "id": "7dad2777",
   "metadata": {},
   "source": [
    "<h3>Converting algorithm outcome to decimal value</h3>"
   ]
  },
  {
   "cell_type": "code",
   "execution_count": null,
   "id": "2bc899b0",
   "metadata": {},
   "outputs": [],
   "source": [
    "decimal_bits = int(list(ordered_counts)[0], 2)\n",
    "print(decimal_bits)"
   ]
  },
  {
   "cell_type": "markdown",
   "id": "39635383",
   "metadata": {},
   "source": [
    "<h3>Computing value T</h3>\n",
    "\n",
    "$\\theta = 2*\\pi*\\frac{decimal\\_bits}{2^{bits\\_of\\_precision}}$\n",
    "\n",
    "$T=\\frac{1}{\\alpha^2 sin^2 \\frac{\\theta}{2}}$"
   ]
  },
  {
   "cell_type": "code",
   "execution_count": null,
   "id": "096e2b25",
   "metadata": {},
   "outputs": [],
   "source": [
    "theta = 2*pi*decimal_bits/(2**bits_of_precision)\n",
    "print('theta:',theta)\n",
    "result = 1/(alpha*alpha*(sin(theta/2)**2))\n",
    "print('sin:',sin(pi*decimal_bits/(2**bits_of_precision)))\n",
    "print('result:',result)"
   ]
  },
  {
   "cell_type": "markdown",
   "id": "674944e1",
   "metadata": {},
   "source": [
    "Updating algorithm to use probabilistic outcomes for more precise result."
   ]
  },
  {
   "cell_type": "code",
   "execution_count": null,
   "id": "419f9309",
   "metadata": {},
   "outputs": [],
   "source": [
    "total_counts = 0\n",
    "total_sum = 0\n",
    "do_precision = True\n",
    "for i in range(4):\n",
    "    if(ordered_counts[list(ordered_counts)[i]] < 100):\n",
    "        do_precision = False\n",
    "if(do_precision):\n",
    "    for i in range(4):\n",
    "        decimal_bits = int(list(ordered_counts)[i], 2)\n",
    "        theta = 2*pi*decimal_bits/(2**bits_of_precision)\n",
    "        result = 1/(alpha*alpha*(sin(theta/2)**2))\n",
    "        total_counts = total_counts + ordered_counts[list(ordered_counts)[i]]\n",
    "        total_sum = total_sum + (ordered_counts[list(ordered_counts)[i]] * result)\n",
    "    print('new algo result:',total_sum/total_counts)\n",
    "else:\n",
    "    print('new algo result:',result)"
   ]
  },
  {
   "cell_type": "code",
   "execution_count": null,
   "id": "037f9c21",
   "metadata": {},
   "outputs": [],
   "source": []
  }
 ],
 "metadata": {
  "kernelspec": {
   "display_name": "Python 3",
   "language": "python",
   "name": "python3"
  },
  "language_info": {
   "codemirror_mode": {
    "name": "ipython",
    "version": 3
   },
   "file_extension": ".py",
   "mimetype": "text/x-python",
   "name": "python",
   "nbconvert_exporter": "python",
   "pygments_lexer": "ipython3",
   "version": "3.8.8"
  }
 },
 "nbformat": 4,
 "nbformat_minor": 5
}
